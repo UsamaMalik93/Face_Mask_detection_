{
 "cells": [
  {
   "cell_type": "code",
   "execution_count": 1,
   "id": "12e64421",
   "metadata": {},
   "outputs": [],
   "source": [
    "import numpy as np\n",
    "import os\n",
    "from imutils import paths\n",
    "import matplotlib.pyplot as plt\n",
    "from tensorflow.keras.models import Model\n",
    "from tensorflow.keras.preprocessing.image import ImageDataGenerator, load_img, img_to_array\n",
    "from tensorflow.keras.applications import MobileNetV2\n",
    "from tensorflow.keras.applications.mobilenet_v2 import preprocess_input\n",
    "from tensorflow.keras.layers import AveragePooling2D, Dense, Dropout, Flatten, Activation\n",
    "from tensorflow.keras.layers import Input\n",
    "from sklearn.model_selection import train_test_split\n",
    "from sklearn.metrics import classification_report\n",
    "from sklearn.preprocessing import LabelBinarizer\n",
    "from tensorflow.keras.utils import to_categorical\n",
    "from tensorflow.keras.optimizers import Adam"
   ]
  },
  {
   "cell_type": "code",
   "execution_count": 2,
   "id": "4926ea06",
   "metadata": {},
   "outputs": [],
   "source": [
    "Labels_Data=[]\n",
    "Images_Data=[]"
   ]
  },
  {
   "cell_type": "markdown",
   "id": "533dddc7",
   "metadata": {},
   "source": [
    "# Load_Face_Mask_Dataset"
   ]
  },
  {
   "cell_type": "code",
   "execution_count": 4,
   "id": "566dcdac",
   "metadata": {},
   "outputs": [],
   "source": [
    "Directory='C:\\\\Users\\\\Dell\\\\Downloads\\\\Face-Mask-Detection-master\\\\Face-Mask-Detection-master\\\\dataset'\n",
    "Categories=['with_mask','without_mask']# -> these are the names of folder in whcih we have relevent images "
   ]
  },
  {
   "cell_type": "code",
   "execution_count": 5,
   "id": "2989096c",
   "metadata": {},
   "outputs": [
    {
     "name": "stderr",
     "output_type": "stream",
     "text": [
      "C:\\Vs\\anaconda3\\lib\\site-packages\\PIL\\Image.py:945: UserWarning: Palette images with Transparency expressed in bytes should be converted to RGBA images\n",
      "  warnings.warn(\n"
     ]
    }
   ],
   "source": [
    "for classes in Categories:\n",
    "    dir_path=os.path.join(Directory, classes) #to join Directory and Categories \n",
    "    for images in os.listdir(dir_path):#list all path to images in a random order\n",
    "        images=os.path.join(dir_path , images)#again joining dir_path and images to reach a specific image in folders with_mask and without_mask\n",
    "        images_loaded=load_img(images, target_size=(224,224))# loading images with size=(224,224)\n",
    "        images_to_array=img_to_array(images_loaded) #converting images to array form\n",
    "        images=preprocess_input(images_to_array) #needed to preprocess when we use MobileNet\n",
    "        \n",
    "        Labels_Data.append(classes)\n",
    "        Images_Data.append(images)\n",
    "        "
   ]
  },
  {
   "cell_type": "markdown",
   "id": "310f1f3f",
   "metadata": {},
   "source": [
    "# Labels_Encoding"
   ]
  },
  {
   "cell_type": "code",
   "execution_count": 6,
   "id": "f1e64946",
   "metadata": {},
   "outputs": [],
   "source": [
    "LB=LabelBinarizer() "
   ]
  },
  {
   "cell_type": "code",
   "execution_count": 7,
   "id": "dce05cf7",
   "metadata": {},
   "outputs": [],
   "source": [
    "Labels_to_Binary=LB.fit_transform(Labels_Data)\n",
    "#sklearn class that accepts Categorical data as input & returns numpy array (0,1 form)"
   ]
  },
  {
   "cell_type": "code",
   "execution_count": 8,
   "id": "14fe43e3",
   "metadata": {},
   "outputs": [],
   "source": [
    "Labels_dataset=to_categorical(Labels_to_Binary)#Converts vector Integers into Binary class matrix  \n",
    "#-> used with Binary_crossentropy"
   ]
  },
  {
   "cell_type": "markdown",
   "id": "79445614",
   "metadata": {},
   "source": [
    "# Converting Images/Labels in Array"
   ]
  },
  {
   "cell_type": "code",
   "execution_count": 10,
   "id": "f5096718",
   "metadata": {},
   "outputs": [],
   "source": [
    "Images_Dataset=np.array(Images_Data,dtype='float32')\n",
    "Labels_Dataset=np.array(Labels_dataset)"
   ]
  },
  {
   "cell_type": "markdown",
   "id": "1eeece52",
   "metadata": {},
   "source": [
    "# Train_test Splitting"
   ]
  },
  {
   "cell_type": "code",
   "execution_count": 11,
   "id": "d45da78a",
   "metadata": {},
   "outputs": [],
   "source": [
    "X_train,X_test,y_train,y_test=train_test_split(Images_Dataset, Labels_Dataset, test_size=0.2, random_state=51)"
   ]
  },
  {
   "cell_type": "markdown",
   "id": "88790273",
   "metadata": {},
   "source": [
    "# Argumentation of Data"
   ]
  },
  {
   "cell_type": "code",
   "execution_count": 12,
   "id": "683224ee",
   "metadata": {},
   "outputs": [],
   "source": [
    "Argumented_data=ImageDataGenerator(rotation_range=20, shear_range=0.15, zoom_range=0.15, horizontal_flip=True, \n",
    "                                  width_shift_range=0.2, height_shift_range=0.2, fill_mode='nearest')"
   ]
  },
  {
   "cell_type": "markdown",
   "id": "3e0467cd",
   "metadata": {},
   "source": [
    "# Model Building"
   ]
  },
  {
   "cell_type": "code",
   "execution_count": 15,
   "id": "8bd59515",
   "metadata": {},
   "outputs": [
    {
     "name": "stdout",
     "output_type": "stream",
     "text": [
      "WARNING:tensorflow:`input_shape` is undefined or non-square, or `rows` is not in [96, 128, 160, 192, 224]. Weights for input shape (224, 224) will be loaded as the default.\n"
     ]
    }
   ],
   "source": [
    "Bottom_Layers=MobileNetV2(weights='imagenet', include_top=False, input_tensor=Input(shape=(224,224,3)))\n",
    "#using weights saved in imagenet , not including top_Layers , and giving input_tensor shape of  image 224, 224 width & \n",
    "#hieght respectively and 3 is color channels RedGreenBlue(RGB)\n"
   ]
  },
  {
   "cell_type": "code",
   "execution_count": 18,
   "id": "5888f2e0",
   "metadata": {},
   "outputs": [],
   "source": [
    "#Building Top_layers\n",
    "Top_Layers=Bottom_Layers.output\n",
    "Top_Layers=AveragePooling2D(pool_size=(7,7))(Top_Layers)\n",
    "Top_Layers=Flatten(name='Flatten_layer')(Top_Layers)\n",
    "Top_Layers=Dense(128, activation='relu')(Top_Layers)# 128 neurons with activation function 'relu' -> used with images always\n",
    "Top_Layers=Dropout(0.5)(Top_Layers)# Droping 50% neurons to aviod overfitting\n",
    "Top_Layers=Dense(2, activation='softmax')(Top_Layers) # 2 means classes with_mask, without_mask\n",
    "\n"
   ]
  },
  {
   "cell_type": "code",
   "execution_count": 19,
   "id": "a8d5273c",
   "metadata": {},
   "outputs": [],
   "source": [
    "model=Model(inputs=Bottom_Layers.input, outputs=Top_Layers)"
   ]
  },
  {
   "cell_type": "code",
   "execution_count": 21,
   "id": "6a6d67da",
   "metadata": {},
   "outputs": [],
   "source": [
    "for layers in Bottom_Layers.layers:\n",
    "    layers.trainable=False\n",
    "#Loop on Bottom_layer to freeze them not getting updated during 1st training process"
   ]
  },
  {
   "cell_type": "markdown",
   "id": "f62d0ae1",
   "metadata": {},
   "source": [
    "# Model Compilation"
   ]
  },
  {
   "cell_type": "code",
   "execution_count": 25,
   "id": "c36ac920",
   "metadata": {},
   "outputs": [],
   "source": [
    "epochs=5\n",
    "batch_size=64\n",
    "lr=1e-4\n",
    "optimizer=Adam(lr=lr, decay=lr/epochs)"
   ]
  },
  {
   "cell_type": "code",
   "execution_count": 26,
   "id": "6fcd2372",
   "metadata": {},
   "outputs": [],
   "source": [
    "model.compile(loss='binary_crossentropy', optimizer=optimizer, metrics=['accuracy'])"
   ]
  },
  {
   "cell_type": "markdown",
   "id": "a48319dc",
   "metadata": {},
   "source": [
    "# Model Training "
   ]
  },
  {
   "cell_type": "code",
   "execution_count": 28,
   "id": "6a60fb75",
   "metadata": {},
   "outputs": [
    {
     "name": "stdout",
     "output_type": "stream",
     "text": [
      "Epoch 1/5\n",
      "47/47 [==============================] - 985s 21s/step - loss: 0.5854 - accuracy: 0.7372 - val_loss: 0.3104 - val_accuracy: 0.9700\n",
      "Epoch 2/5\n",
      "47/47 [==============================] - 961s 21s/step - loss: 0.2603 - accuracy: 0.9360 - val_loss: 0.1580 - val_accuracy: 0.9857\n",
      "Epoch 3/5\n",
      "47/47 [==============================] - 787s 17s/step - loss: 0.1559 - accuracy: 0.9647 - val_loss: 0.1017 - val_accuracy: 0.9857\n",
      "Epoch 4/5\n",
      "47/47 [==============================] - 728s 15s/step - loss: 0.1186 - accuracy: 0.9720 - val_loss: 0.0764 - val_accuracy: 0.9883\n",
      "Epoch 5/5\n",
      "47/47 [==============================] - 769s 16s/step - loss: 0.0994 - accuracy: 0.9737 - val_loss: 0.0620 - val_accuracy: 0.9909\n"
     ]
    }
   ],
   "source": [
    "Histroy=model.fit(Argumented_data.flow(X_train, y_train, batch_size=64), steps_per_epoch=len(X_train)//batch_size,\n",
    "                 validation_data=(X_test, y_test),validation_steps=len(X_test)//batch_size, epochs=epochs)"
   ]
  },
  {
   "cell_type": "markdown",
   "id": "ebf690b6",
   "metadata": {},
   "source": [
    "# Classification Report"
   ]
  },
  {
   "cell_type": "code",
   "execution_count": 29,
   "id": "08a29db4",
   "metadata": {},
   "outputs": [
    {
     "name": "stdout",
     "output_type": "stream",
     "text": [
      "12/12 [==============================] - 77s 3s/step\n"
     ]
    }
   ],
   "source": [
    "prediction=model.predict(X_test, batch_size=batch_size)"
   ]
  },
  {
   "cell_type": "code",
   "execution_count": 30,
   "id": "72ee06a0",
   "metadata": {},
   "outputs": [],
   "source": [
    "prediction_prob_max=np.argmax(prediction, axis=1)#to get max probability on X_test predictions"
   ]
  },
  {
   "cell_type": "code",
   "execution_count": 31,
   "id": "e087e0bb",
   "metadata": {},
   "outputs": [
    {
     "name": "stdout",
     "output_type": "stream",
     "text": [
      "              precision    recall  f1-score   support\n",
      "\n",
      "   with_mask       0.99      0.99      0.99       375\n",
      "without_mask       0.99      0.99      0.99       392\n",
      "\n",
      "    accuracy                           0.99       767\n",
      "   macro avg       0.99      0.99      0.99       767\n",
      "weighted avg       0.99      0.99      0.99       767\n",
      "\n"
     ]
    }
   ],
   "source": [
    "print(classification_report(y_test.argmax(axis=1), prediction_prob_max, target_names=LB.classes_))"
   ]
  },
  {
   "cell_type": "markdown",
   "id": "5f6fdb91",
   "metadata": {},
   "source": [
    "# Saving Model"
   ]
  },
  {
   "cell_type": "code",
   "execution_count": 32,
   "id": "a433167e",
   "metadata": {},
   "outputs": [],
   "source": [
    "model.save('Face_Mask_Detection.model', save_format='h5')"
   ]
  },
  {
   "cell_type": "markdown",
   "id": "b5212375",
   "metadata": {},
   "source": [
    "# Plotting Results"
   ]
  },
  {
   "cell_type": "code",
   "execution_count": 33,
   "id": "ecff69b8",
   "metadata": {},
   "outputs": [
    {
     "data": {
      "text/plain": [
       "<Figure size 432x432 with 0 Axes>"
      ]
     },
     "execution_count": 33,
     "metadata": {},
     "output_type": "execute_result"
    },
    {
     "data": {
      "text/plain": [
       "<Figure size 432x432 with 0 Axes>"
      ]
     },
     "metadata": {},
     "output_type": "display_data"
    }
   ],
   "source": [
    "plt.style.use('ggplot')\n",
    "plt.figure(figsize=(6,6))"
   ]
  },
  {
   "cell_type": "code",
   "execution_count": 40,
   "id": "12275b08",
   "metadata": {},
   "outputs": [
    {
     "data": {
      "text/plain": [
       "<matplotlib.legend.Legend at 0x1f23fd6a970>"
      ]
     },
     "execution_count": 40,
     "metadata": {},
     "output_type": "execute_result"
    },
    {
     "data": {
      "image/png": "[encoded data removed]",
      "text/plain": [
       "<Figure size 432x288 with 1 Axes>"
      ]
     },
     "metadata": {},
     "output_type": "display_data"
    }
   ],
   "source": [
    "#0 to 5 as 5 epochs we are performing\n",
    "plt.plot(np.arange(0,5),Histroy.history['loss'],label='Training_Loss')\n",
    "plt.plot(np.arange(0,5), Histroy.history['val_loss'], label='Validation_Loss')\n",
    "plt.plot(np.arange(0,5), Histroy.history['accuracy'], label='Training_accuracy')\n",
    "plt.plot(np.arange(0,5), Histroy.history['val_accuracy'], label='Validation_accuracy')\n",
    "\n",
    "plt.title(\"Training Loss and Accuracy\")\n",
    "plt.xlabel(\"Epoch #\")\n",
    "plt.ylabel(\"Loss/Accuracy\")\n",
    "plt.legend(loc=\"upper right\")"
   ]
  },
  {
   "cell_type": "code",
   "execution_count": 41,
   "id": "6323e8ae",
   "metadata": {},
   "outputs": [
    {
     "data": {
      "text/plain": [
       "<Figure size 432x288 with 0 Axes>"
      ]
     },
     "metadata": {},
     "output_type": "display_data"
    }
   ],
   "source": [
    "plt.savefig('Graphical_reults.jpeg')"
   ]
  },
  {
   "cell_type": "code",
   "execution_count": null,
   "id": "fc042b39",
   "metadata": {},
   "outputs": [],
   "source": []
  },
  {
   "cell_type": "code",
   "execution_count": null,
   "id": "ffa2d693",
   "metadata": {},
   "outputs": [],
   "source": []
  }
 ],
 "metadata": {
  "kernelspec": {
   "display_name": "Python 3 (ipykernel)",
   "language": "python",
   "name": "python3"
  },
  "language_info": {
   "codemirror_mode": {
    "name": "ipython",
    "version": 3
   },
   "file_extension": ".py",
   "mimetype": "text/x-python",
   "name": "python",
   "nbconvert_exporter": "python",
   "pygments_lexer": "ipython3",
   "version": "3.9.12"
  }
 },
 "nbformat": 4,
 "nbformat_minor": 5
}
